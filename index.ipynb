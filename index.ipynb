{
 "cells": [
  {
   "cell_type": "markdown",
   "metadata": {},
   "source": [
    "# Getting Started with NumPy - Lab"
   ]
  },
  {
   "cell_type": "markdown",
   "metadata": {},
   "source": [
    "## Introduction"
   ]
  },
  {
   "cell_type": "markdown",
   "metadata": {},
   "source": [
    "Now that we have introduced NumPy, let's put it to practice. In this lab, we are going to be creating arrays, performing operations on them, and returning new array all using the NumPy library. Let's get started!"
   ]
  },
  {
   "cell_type": "markdown",
   "metadata": {},
   "source": [
    "## Objectives\n",
    "\n",
    "You will be able to: \n",
    "\n",
    "* Understand how to initialize NumPy arrays from nested Python lists, and access elements using square brackets\n",
    "* Understand the shape attribute on NumPy arrays\n",
    "* Understand how to create arrays from scratch including np.zeros, np.ones, np.full\n",
    "* Learn to perform scalar and vector math  "
   ]
  },
  {
   "cell_type": "markdown",
   "metadata": {},
   "source": [
    "## Import NumPy under the standard alias"
   ]
  },
  {
   "cell_type": "code",
   "execution_count": 1,
   "metadata": {},
   "outputs": [],
   "source": [
    "#Your code here\n",
    "import numpy as np"
   ]
  },
  {
   "cell_type": "markdown",
   "metadata": {},
   "source": [
    "## Generating Some Mock Data"
   ]
  },
  {
   "cell_type": "markdown",
   "metadata": {},
   "source": [
    "Create a NumPy Array for each of the following:\n",
    "    1. Using a range\n",
    "    2. Using a Python List\n",
    "    \n",
    "Below, create a list in Python that has 5 elements (i.e. [0,1,2,3,4]) and assign it to the variable `py_list`. \n",
    "\n",
    "Next, do the same, but instead of a list, create a range with 5 elements and assign it to the variable, `py_range`.\n",
    "\n",
    "Finally, use the list and range to create NumPy arrays and assign the array from list to the variable `array_from_list`, and the array from the range to the variable `array_from_range`."
   ]
  },
  {
   "cell_type": "code",
   "execution_count": 2,
   "metadata": {},
   "outputs": [
    {
     "name": "stdout",
     "output_type": "stream",
     "text": [
      "[0, 1, 2, 3, 4]\n",
      "range(0, 5)\n",
      "[0 1 2 3 4]\n",
      "[0 1 2 3 4]\n"
     ]
    }
   ],
   "source": [
    "#Your code here\n",
    "py_list = list(range(5))\n",
    "py_range = range(5)\n",
    "print(py_list)\n",
    "print(py_range)\n",
    "array_from_list = np.array(py_list)\n",
    "array_from_range = np.array(py_range)\n",
    "print(array_from_list)\n",
    "print(array_from_range)"
   ]
  },
  {
   "cell_type": "markdown",
   "metadata": {},
   "source": [
    "Next, we have a list of heights and weights and we'd like to use them to create a collection of BMIs. However, they are both in inches and pounds (imperial system), respectively. \n",
    "\n",
    "Let's use what we know to create NumPy arrays with the metric equivalent values, (height in meters & weight in kg).\n",
    "\n",
    "> **Remember:** *NumPy can make these calculations a lot easier and with less code than a list!*"
   ]
  },
  {
   "cell_type": "markdown",
   "metadata": {},
   "source": [
    "> 1.0 inch = 0.0254 meters\n",
    "\n",
    "> 2.2046 lbs = 1 kilogram"
   ]
  },
  {
   "cell_type": "code",
   "execution_count": 3,
   "metadata": {},
   "outputs": [],
   "source": [
    "# use the conversion rate for turning height in inches to meters\n",
    "list_height_inches = [65, 68, 73, 75, 78]\n",
    "\n",
    "#Your code here\n",
    "np_height = np.multiply(np.array(list_height_inches), 0.0254)"
   ]
  },
  {
   "cell_type": "code",
   "execution_count": 4,
   "metadata": {},
   "outputs": [],
   "source": [
    "# use the conversion rate for turning weight in pounds to kilograms\n",
    "list_weight_pounds = [150, 140, 220, 205, 265]\n",
    "\n",
    "#your code here\n",
    "np_weight = np.divide(np.array(list_weight_pounds), 2.2046)"
   ]
  },
  {
   "cell_type": "code",
   "execution_count": 5,
   "metadata": {},
   "outputs": [
    {
     "name": "stdout",
     "output_type": "stream",
     "text": [
      "[1.651  1.7272 1.8542 1.905  1.9812]\n",
      "[ 68.03955366  63.50358342  99.79134537  92.98739    120.20321147]\n"
     ]
    }
   ],
   "source": [
    "print(np_height)\n",
    "print(np_weight)"
   ]
  },
  {
   "cell_type": "markdown",
   "metadata": {},
   "source": [
    "The metric formula for calculating BMI is as follows:\n",
    "\n",
    "> BMI = weight (kg) ÷ height^2 (m^2)\n",
    "\n",
    "So, to get BMI we divide weight by the squared value of height. For example, if i weighed 130kg and was 1.9 meters tall, the calculation would look like:\n",
    "\n",
    "> BMI = 130 / (1.9*1.9)\n",
    "\n",
    "Use the BMI calculation to create a NumPy array of BMIs"
   ]
  },
  {
   "cell_type": "code",
   "execution_count": 6,
   "metadata": {},
   "outputs": [
    {
     "data": {
      "text/plain": [
       "array([24.9613063 , 21.28692715, 29.02550097, 25.62324316, 30.62382485])"
      ]
     },
     "execution_count": 6,
     "metadata": {},
     "output_type": "execute_result"
    }
   ],
   "source": [
    "#Your code here\n",
    "BMI = np.divide(np_weight, np.power(np_height, 2))\n",
    "BMI"
   ]
  },
  {
   "cell_type": "markdown",
   "metadata": {},
   "source": [
    "## Create an identity vector using `np.ones()`"
   ]
  },
  {
   "cell_type": "code",
   "execution_count": 7,
   "metadata": {},
   "outputs": [
    {
     "data": {
      "text/plain": [
       "array([1., 1., 1., 1., 1.])"
      ]
     },
     "execution_count": 7,
     "metadata": {},
     "output_type": "execute_result"
    }
   ],
   "source": [
    "#Your code here\n",
    "ones = np.ones(len(BMI))\n",
    "ones"
   ]
  },
  {
   "cell_type": "markdown",
   "metadata": {},
   "source": [
    "## Multiply the BMI_array by your identity vector"
   ]
  },
  {
   "cell_type": "code",
   "execution_count": 8,
   "metadata": {},
   "outputs": [
    {
     "data": {
      "text/plain": [
       "array([24.9613063 , 21.28692715, 29.02550097, 25.62324316, 30.62382485])"
      ]
     },
     "execution_count": 8,
     "metadata": {},
     "output_type": "execute_result"
    }
   ],
   "source": [
    "#Your code here\n",
    "one_mult = np.multiply(BMI, ones)\n",
    "one_mult"
   ]
  },
  {
   "cell_type": "markdown",
   "metadata": {},
   "source": [
    "## Level Up: Using NumPy to Parse a File\n",
    "The pandas library that we've been using is built on top of NumPy; all columns/series in a Pandas DataFrame are built using NumPy arrays. To get a better idea of a how a built in method like pd.read_csv() works, we'll try and recreate that here!"
   ]
  },
  {
   "cell_type": "code",
   "execution_count": 18,
   "metadata": {},
   "outputs": [
    {
     "name": "stdout",
     "output_type": "stream",
     "text": [
      "The file has 21 lines.\n",
      "The file has 8 cols.\n",
      "[(0, 'Pt\\tBP\\tAge\\tWeight\\tBSA\\tDur\\tPulse\\tStress\\n'), (1, '1\\t105\\t47\\t85.4\\t1.75\\t5.1\\t63\\t33\\n'), (2, '2\\t115\\t49\\t94.2\\t2.10\\t3.8\\t70\\t14\\n'), (3, '3\\t116\\t49\\t95.3\\t1.98\\t8.2\\t72\\t10\\n'), (4, '4\\t117\\t50\\t94.7\\t2.01\\t5.8\\t73\\t99\\n'), (5, '5\\t112\\t51\\t89.4\\t1.89\\t7.0\\t72\\t95\\n'), (6, '6\\t121\\t48\\t99.5\\t2.25\\t9.3\\t71\\t10\\n'), (7, '7\\t121\\t49\\t99.8\\t2.25\\t2.5\\t69\\t42\\n'), (8, '8\\t110\\t47\\t90.9\\t1.90\\t6.2\\t66\\t8\\n'), (9, '9\\t110\\t49\\t89.2\\t1.83\\t7.1\\t69\\t62\\n'), (10, '10\\t114\\t48\\t92.7\\t2.07\\t5.6\\t64\\t35\\n'), (11, '11\\t114\\t47\\t94.4\\t2.07\\t5.3\\t74\\t90\\n'), (12, '12\\t115\\t49\\t94.1\\t1.98\\t5.6\\t71\\t21\\n'), (13, '13\\t114\\t50\\t91.6\\t2.05\\t10.2\\t68\\t47\\n'), (14, '14\\t106\\t45\\t87.1\\t1.92\\t5.6\\t67\\t80\\n'), (15, '15\\t125\\t52\\t101.3\\t2.19\\t10.0\\t76\\t98\\n'), (16, '16\\t114\\t46\\t94.5\\t1.98\\t7.4\\t69\\t95\\n'), (17, '17\\t106\\t46\\t87.0\\t1.87\\t3.6\\t62\\t18\\n'), (18, '18\\t113\\t46\\t94.5\\t1.90\\t4.3\\t70\\t12\\n'), (19, '19\\t110\\t48\\t90.5\\t1.88\\t9.0\\t71\\t99\\n'), (20, '20\\t122\\t56\\t95.7\\t2.09\\t7.0\\t75\\t99\\n')]\n"
     ]
    },
    {
     "data": {
      "text/plain": [
       "array([[0., 0., 0., 0., 0., 0., 0., 0.],\n",
       "       [0., 0., 0., 0., 0., 0., 0., 0.],\n",
       "       [0., 0., 0., 0., 0., 0., 0., 0.],\n",
       "       [0., 0., 0., 0., 0., 0., 0., 0.],\n",
       "       [0., 0., 0., 0., 0., 0., 0., 0.],\n",
       "       [0., 0., 0., 0., 0., 0., 0., 0.],\n",
       "       [0., 0., 0., 0., 0., 0., 0., 0.],\n",
       "       [0., 0., 0., 0., 0., 0., 0., 0.],\n",
       "       [0., 0., 0., 0., 0., 0., 0., 0.],\n",
       "       [0., 0., 0., 0., 0., 0., 0., 0.],\n",
       "       [0., 0., 0., 0., 0., 0., 0., 0.],\n",
       "       [0., 0., 0., 0., 0., 0., 0., 0.],\n",
       "       [0., 0., 0., 0., 0., 0., 0., 0.],\n",
       "       [0., 0., 0., 0., 0., 0., 0., 0.],\n",
       "       [0., 0., 0., 0., 0., 0., 0., 0.],\n",
       "       [0., 0., 0., 0., 0., 0., 0., 0.],\n",
       "       [0., 0., 0., 0., 0., 0., 0., 0.],\n",
       "       [0., 0., 0., 0., 0., 0., 0., 0.],\n",
       "       [0., 0., 0., 0., 0., 0., 0., 0.],\n",
       "       [0., 0., 0., 0., 0., 0., 0., 0.],\n",
       "       [0., 0., 0., 0., 0., 0., 0., 0.]])"
      ]
     },
     "execution_count": 18,
     "metadata": {},
     "output_type": "execute_result"
    }
   ],
   "source": [
    "#Open a text file (csv files are just plaintext separated by commas)\n",
    "f = open('bp.txt')\n",
    "n_rows = len(f.readlines())\n",
    "print('The file has {} lines.'.format(n_rows)) #Print number of lines in the file\n",
    "f = open('bp.txt') #After using readlines, we must reopen the file\n",
    "n_cols = (len(f.readline().split('\\t'))) #The file has values separated by tabs; we read the first line and check it's length.\n",
    "print('The file has {} cols.'.format(n_cols)) #Print number of lines in the file\n",
    "\n",
    "\n",
    "f = open('bp.txt')\n",
    "\n",
    "#Your code here\n",
    "#Pseudocode outline below\n",
    "#1) Create a matrix of zeros that is the same size of the file\n",
    "#2) Iterate through the file: \"for line in f:\" Hint: using enumerate will also be required\n",
    "    #3) Update each row of the matrix with the new stream of data\n",
    "    #Hint: skip the first row (it's just column names, not the data.)\n",
    "#4) Preview your results; you should now have a NumPy matrix with the data from the file\n",
    "\n",
    "# help(np.zeros)\n",
    "matrix = np.zeros([n_rows, n_cols])\n",
    "print(list(enumerate(f)))\n",
    "for n, line in enumerate(f):\n",
    "    if n > 0:\n",
    "        print(matrix[n,:])\n",
    "        matrix[n,:] = line.split('\\t')\n",
    "        print(matrix[n,:])\n",
    "    \n",
    "matrix"
   ]
  },
  {
   "cell_type": "markdown",
   "metadata": {},
   "source": [
    "## Summary"
   ]
  },
  {
   "cell_type": "markdown",
   "metadata": {},
   "source": [
    "In this lab, we practiced creating NumPy arrays from both lists and ranges. We then practiced performing math operations like converting imperial measurements to metric measurements on each element of a NumPy array to create new arrays with new values. Finally, we used both of our new NumPy arrays to operate on each other and create new arrays containing the BMIs from our arrays containing heights and weights."
   ]
  },
  {
   "cell_type": "code",
   "execution_count": null,
   "metadata": {},
   "outputs": [],
   "source": []
  }
 ],
 "metadata": {
  "kernelspec": {
   "display_name": "Python 3",
   "language": "python",
   "name": "python3"
  },
  "language_info": {
   "codemirror_mode": {
    "name": "ipython",
    "version": 3
   },
   "file_extension": ".py",
   "mimetype": "text/x-python",
   "name": "python",
   "nbconvert_exporter": "python",
   "pygments_lexer": "ipython3",
   "version": "3.6.6"
  }
 },
 "nbformat": 4,
 "nbformat_minor": 2
}
